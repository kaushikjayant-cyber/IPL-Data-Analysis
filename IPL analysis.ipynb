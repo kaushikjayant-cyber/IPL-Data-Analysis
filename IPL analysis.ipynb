{
 "cells": [
  {
   "cell_type": "code",
   "execution_count": 1,
   "id": "4079a5ce-4a17-4c84-9e09-3dfee9c81e28",
   "metadata": {},
   "outputs": [],
   "source": [
    "import numpy as np\n",
    "import pandas as pd"
   ]
  },
  {
   "cell_type": "code",
   "execution_count": 5,
   "id": "fb12a009-420e-4059-8280-6f23c0ef1a14",
   "metadata": {},
   "outputs": [],
   "source": [
    "data=pd.read_csv('matches - matches.csv')"
   ]
  },
  {
   "cell_type": "code",
   "execution_count": 7,
   "id": "ded60379-783d-4cfd-bacc-6478e1e1daf1",
   "metadata": {},
   "outputs": [
    {
     "data": {
      "text/html": [
       "<div>\n",
       "<style scoped>\n",
       "    .dataframe tbody tr th:only-of-type {\n",
       "        vertical-align: middle;\n",
       "    }\n",
       "\n",
       "    .dataframe tbody tr th {\n",
       "        vertical-align: top;\n",
       "    }\n",
       "\n",
       "    .dataframe thead th {\n",
       "        text-align: right;\n",
       "    }\n",
       "</style>\n",
       "<table border=\"1\" class=\"dataframe\">\n",
       "  <thead>\n",
       "    <tr style=\"text-align: right;\">\n",
       "      <th></th>\n",
       "      <th>id</th>\n",
       "      <th>season</th>\n",
       "      <th>city</th>\n",
       "      <th>date</th>\n",
       "      <th>team1</th>\n",
       "      <th>team2</th>\n",
       "      <th>toss_winner</th>\n",
       "      <th>toss_decision</th>\n",
       "      <th>result</th>\n",
       "      <th>dl_applied</th>\n",
       "      <th>winner</th>\n",
       "      <th>win_by_runs</th>\n",
       "      <th>win_by_wickets</th>\n",
       "      <th>player_of_match</th>\n",
       "      <th>venue</th>\n",
       "      <th>umpire1</th>\n",
       "      <th>umpire2</th>\n",
       "      <th>umpire3</th>\n",
       "    </tr>\n",
       "  </thead>\n",
       "  <tbody>\n",
       "    <tr>\n",
       "      <th>0</th>\n",
       "      <td>1</td>\n",
       "      <td>2017</td>\n",
       "      <td>Hyderabad</td>\n",
       "      <td>2017-04-05</td>\n",
       "      <td>Sunrisers Hyderabad</td>\n",
       "      <td>Royal Challengers Bangalore</td>\n",
       "      <td>Royal Challengers Bangalore</td>\n",
       "      <td>field</td>\n",
       "      <td>normal</td>\n",
       "      <td>0</td>\n",
       "      <td>Sunrisers Hyderabad</td>\n",
       "      <td>35</td>\n",
       "      <td>0</td>\n",
       "      <td>Yuvraj Singh</td>\n",
       "      <td>Rajiv Gandhi International Stadium, Uppal</td>\n",
       "      <td>AY Dandekar</td>\n",
       "      <td>NJ Llong</td>\n",
       "      <td>NaN</td>\n",
       "    </tr>\n",
       "    <tr>\n",
       "      <th>1</th>\n",
       "      <td>2</td>\n",
       "      <td>2017</td>\n",
       "      <td>Pune</td>\n",
       "      <td>2017-04-06</td>\n",
       "      <td>Mumbai Indians</td>\n",
       "      <td>Rising Pune Supergiant</td>\n",
       "      <td>Rising Pune Supergiant</td>\n",
       "      <td>field</td>\n",
       "      <td>normal</td>\n",
       "      <td>0</td>\n",
       "      <td>Rising Pune Supergiant</td>\n",
       "      <td>0</td>\n",
       "      <td>7</td>\n",
       "      <td>SPD Smith</td>\n",
       "      <td>Maharashtra Cricket Association Stadium</td>\n",
       "      <td>A Nand Kishore</td>\n",
       "      <td>S Ravi</td>\n",
       "      <td>NaN</td>\n",
       "    </tr>\n",
       "    <tr>\n",
       "      <th>2</th>\n",
       "      <td>3</td>\n",
       "      <td>2017</td>\n",
       "      <td>Rajkot</td>\n",
       "      <td>2017-04-07</td>\n",
       "      <td>Gujarat Lions</td>\n",
       "      <td>Kolkata Knight Riders</td>\n",
       "      <td>Kolkata Knight Riders</td>\n",
       "      <td>field</td>\n",
       "      <td>normal</td>\n",
       "      <td>0</td>\n",
       "      <td>Kolkata Knight Riders</td>\n",
       "      <td>0</td>\n",
       "      <td>10</td>\n",
       "      <td>CA Lynn</td>\n",
       "      <td>Saurashtra Cricket Association Stadium</td>\n",
       "      <td>Nitin Menon</td>\n",
       "      <td>CK Nandan</td>\n",
       "      <td>NaN</td>\n",
       "    </tr>\n",
       "    <tr>\n",
       "      <th>3</th>\n",
       "      <td>4</td>\n",
       "      <td>2017</td>\n",
       "      <td>Indore</td>\n",
       "      <td>2017-04-08</td>\n",
       "      <td>Rising Pune Supergiant</td>\n",
       "      <td>Kings XI Punjab</td>\n",
       "      <td>Kings XI Punjab</td>\n",
       "      <td>field</td>\n",
       "      <td>normal</td>\n",
       "      <td>0</td>\n",
       "      <td>Kings XI Punjab</td>\n",
       "      <td>0</td>\n",
       "      <td>6</td>\n",
       "      <td>GJ Maxwell</td>\n",
       "      <td>Holkar Cricket Stadium</td>\n",
       "      <td>AK Chaudhary</td>\n",
       "      <td>C Shamshuddin</td>\n",
       "      <td>NaN</td>\n",
       "    </tr>\n",
       "    <tr>\n",
       "      <th>4</th>\n",
       "      <td>5</td>\n",
       "      <td>2017</td>\n",
       "      <td>Bangalore</td>\n",
       "      <td>2017-04-08</td>\n",
       "      <td>Royal Challengers Bangalore</td>\n",
       "      <td>Delhi Daredevils</td>\n",
       "      <td>Royal Challengers Bangalore</td>\n",
       "      <td>bat</td>\n",
       "      <td>normal</td>\n",
       "      <td>0</td>\n",
       "      <td>Royal Challengers Bangalore</td>\n",
       "      <td>15</td>\n",
       "      <td>0</td>\n",
       "      <td>KM Jadhav</td>\n",
       "      <td>M Chinnaswamy Stadium</td>\n",
       "      <td>NaN</td>\n",
       "      <td>NaN</td>\n",
       "      <td>NaN</td>\n",
       "    </tr>\n",
       "    <tr>\n",
       "      <th>...</th>\n",
       "      <td>...</td>\n",
       "      <td>...</td>\n",
       "      <td>...</td>\n",
       "      <td>...</td>\n",
       "      <td>...</td>\n",
       "      <td>...</td>\n",
       "      <td>...</td>\n",
       "      <td>...</td>\n",
       "      <td>...</td>\n",
       "      <td>...</td>\n",
       "      <td>...</td>\n",
       "      <td>...</td>\n",
       "      <td>...</td>\n",
       "      <td>...</td>\n",
       "      <td>...</td>\n",
       "      <td>...</td>\n",
       "      <td>...</td>\n",
       "      <td>...</td>\n",
       "    </tr>\n",
       "    <tr>\n",
       "      <th>631</th>\n",
       "      <td>632</td>\n",
       "      <td>2016</td>\n",
       "      <td>Raipur</td>\n",
       "      <td>2016-05-22</td>\n",
       "      <td>Delhi Daredevils</td>\n",
       "      <td>Royal Challengers Bangalore</td>\n",
       "      <td>Royal Challengers Bangalore</td>\n",
       "      <td>field</td>\n",
       "      <td>normal</td>\n",
       "      <td>0</td>\n",
       "      <td>Royal Challengers Bangalore</td>\n",
       "      <td>0</td>\n",
       "      <td>6</td>\n",
       "      <td>V Kohli</td>\n",
       "      <td>Shaheed Veer Narayan Singh International Stadium</td>\n",
       "      <td>A Nand Kishore</td>\n",
       "      <td>BNJ Oxenford</td>\n",
       "      <td>NaN</td>\n",
       "    </tr>\n",
       "    <tr>\n",
       "      <th>632</th>\n",
       "      <td>633</td>\n",
       "      <td>2016</td>\n",
       "      <td>Bangalore</td>\n",
       "      <td>2016-05-24</td>\n",
       "      <td>Gujarat Lions</td>\n",
       "      <td>Royal Challengers Bangalore</td>\n",
       "      <td>Royal Challengers Bangalore</td>\n",
       "      <td>field</td>\n",
       "      <td>normal</td>\n",
       "      <td>0</td>\n",
       "      <td>Royal Challengers Bangalore</td>\n",
       "      <td>0</td>\n",
       "      <td>4</td>\n",
       "      <td>AB de Villiers</td>\n",
       "      <td>M Chinnaswamy Stadium</td>\n",
       "      <td>AK Chaudhary</td>\n",
       "      <td>HDPK Dharmasena</td>\n",
       "      <td>NaN</td>\n",
       "    </tr>\n",
       "    <tr>\n",
       "      <th>633</th>\n",
       "      <td>634</td>\n",
       "      <td>2016</td>\n",
       "      <td>Delhi</td>\n",
       "      <td>2016-05-25</td>\n",
       "      <td>Sunrisers Hyderabad</td>\n",
       "      <td>Kolkata Knight Riders</td>\n",
       "      <td>Kolkata Knight Riders</td>\n",
       "      <td>field</td>\n",
       "      <td>normal</td>\n",
       "      <td>0</td>\n",
       "      <td>Sunrisers Hyderabad</td>\n",
       "      <td>22</td>\n",
       "      <td>0</td>\n",
       "      <td>MC Henriques</td>\n",
       "      <td>Feroz Shah Kotla</td>\n",
       "      <td>M Erasmus</td>\n",
       "      <td>C Shamshuddin</td>\n",
       "      <td>NaN</td>\n",
       "    </tr>\n",
       "    <tr>\n",
       "      <th>634</th>\n",
       "      <td>635</td>\n",
       "      <td>2016</td>\n",
       "      <td>Delhi</td>\n",
       "      <td>2016-05-27</td>\n",
       "      <td>Gujarat Lions</td>\n",
       "      <td>Sunrisers Hyderabad</td>\n",
       "      <td>Sunrisers Hyderabad</td>\n",
       "      <td>field</td>\n",
       "      <td>normal</td>\n",
       "      <td>0</td>\n",
       "      <td>Sunrisers Hyderabad</td>\n",
       "      <td>0</td>\n",
       "      <td>4</td>\n",
       "      <td>DA Warner</td>\n",
       "      <td>Feroz Shah Kotla</td>\n",
       "      <td>M Erasmus</td>\n",
       "      <td>CK Nandan</td>\n",
       "      <td>NaN</td>\n",
       "    </tr>\n",
       "    <tr>\n",
       "      <th>635</th>\n",
       "      <td>636</td>\n",
       "      <td>2016</td>\n",
       "      <td>Bangalore</td>\n",
       "      <td>2016-05-29</td>\n",
       "      <td>Sunrisers Hyderabad</td>\n",
       "      <td>Royal Challengers Bangalore</td>\n",
       "      <td>Sunrisers Hyderabad</td>\n",
       "      <td>bat</td>\n",
       "      <td>normal</td>\n",
       "      <td>0</td>\n",
       "      <td>Sunrisers Hyderabad</td>\n",
       "      <td>8</td>\n",
       "      <td>0</td>\n",
       "      <td>BCJ Cutting</td>\n",
       "      <td>M Chinnaswamy Stadium</td>\n",
       "      <td>HDPK Dharmasena</td>\n",
       "      <td>BNJ Oxenford</td>\n",
       "      <td>NaN</td>\n",
       "    </tr>\n",
       "  </tbody>\n",
       "</table>\n",
       "<p>636 rows × 18 columns</p>\n",
       "</div>"
      ],
      "text/plain": [
       "      id  season       city        date                        team1  \\\n",
       "0      1    2017  Hyderabad  2017-04-05          Sunrisers Hyderabad   \n",
       "1      2    2017       Pune  2017-04-06               Mumbai Indians   \n",
       "2      3    2017     Rajkot  2017-04-07                Gujarat Lions   \n",
       "3      4    2017     Indore  2017-04-08       Rising Pune Supergiant   \n",
       "4      5    2017  Bangalore  2017-04-08  Royal Challengers Bangalore   \n",
       "..   ...     ...        ...         ...                          ...   \n",
       "631  632    2016     Raipur  2016-05-22             Delhi Daredevils   \n",
       "632  633    2016  Bangalore  2016-05-24                Gujarat Lions   \n",
       "633  634    2016      Delhi  2016-05-25          Sunrisers Hyderabad   \n",
       "634  635    2016      Delhi  2016-05-27                Gujarat Lions   \n",
       "635  636    2016  Bangalore  2016-05-29          Sunrisers Hyderabad   \n",
       "\n",
       "                           team2                  toss_winner toss_decision  \\\n",
       "0    Royal Challengers Bangalore  Royal Challengers Bangalore         field   \n",
       "1         Rising Pune Supergiant       Rising Pune Supergiant         field   \n",
       "2          Kolkata Knight Riders        Kolkata Knight Riders         field   \n",
       "3                Kings XI Punjab              Kings XI Punjab         field   \n",
       "4               Delhi Daredevils  Royal Challengers Bangalore           bat   \n",
       "..                           ...                          ...           ...   \n",
       "631  Royal Challengers Bangalore  Royal Challengers Bangalore         field   \n",
       "632  Royal Challengers Bangalore  Royal Challengers Bangalore         field   \n",
       "633        Kolkata Knight Riders        Kolkata Knight Riders         field   \n",
       "634          Sunrisers Hyderabad          Sunrisers Hyderabad         field   \n",
       "635  Royal Challengers Bangalore          Sunrisers Hyderabad           bat   \n",
       "\n",
       "     result  dl_applied                       winner  win_by_runs  \\\n",
       "0    normal           0          Sunrisers Hyderabad           35   \n",
       "1    normal           0       Rising Pune Supergiant            0   \n",
       "2    normal           0        Kolkata Knight Riders            0   \n",
       "3    normal           0              Kings XI Punjab            0   \n",
       "4    normal           0  Royal Challengers Bangalore           15   \n",
       "..      ...         ...                          ...          ...   \n",
       "631  normal           0  Royal Challengers Bangalore            0   \n",
       "632  normal           0  Royal Challengers Bangalore            0   \n",
       "633  normal           0          Sunrisers Hyderabad           22   \n",
       "634  normal           0          Sunrisers Hyderabad            0   \n",
       "635  normal           0          Sunrisers Hyderabad            8   \n",
       "\n",
       "     win_by_wickets player_of_match  \\\n",
       "0                 0    Yuvraj Singh   \n",
       "1                 7       SPD Smith   \n",
       "2                10         CA Lynn   \n",
       "3                 6      GJ Maxwell   \n",
       "4                 0       KM Jadhav   \n",
       "..              ...             ...   \n",
       "631               6         V Kohli   \n",
       "632               4  AB de Villiers   \n",
       "633               0    MC Henriques   \n",
       "634               4       DA Warner   \n",
       "635               0     BCJ Cutting   \n",
       "\n",
       "                                                venue          umpire1  \\\n",
       "0           Rajiv Gandhi International Stadium, Uppal      AY Dandekar   \n",
       "1             Maharashtra Cricket Association Stadium   A Nand Kishore   \n",
       "2              Saurashtra Cricket Association Stadium      Nitin Menon   \n",
       "3                              Holkar Cricket Stadium     AK Chaudhary   \n",
       "4                               M Chinnaswamy Stadium              NaN   \n",
       "..                                                ...              ...   \n",
       "631  Shaheed Veer Narayan Singh International Stadium   A Nand Kishore   \n",
       "632                             M Chinnaswamy Stadium     AK Chaudhary   \n",
       "633                                  Feroz Shah Kotla        M Erasmus   \n",
       "634                                  Feroz Shah Kotla        M Erasmus   \n",
       "635                             M Chinnaswamy Stadium  HDPK Dharmasena   \n",
       "\n",
       "             umpire2  umpire3  \n",
       "0           NJ Llong      NaN  \n",
       "1             S Ravi      NaN  \n",
       "2          CK Nandan      NaN  \n",
       "3      C Shamshuddin      NaN  \n",
       "4                NaN      NaN  \n",
       "..               ...      ...  \n",
       "631     BNJ Oxenford      NaN  \n",
       "632  HDPK Dharmasena      NaN  \n",
       "633    C Shamshuddin      NaN  \n",
       "634        CK Nandan      NaN  \n",
       "635     BNJ Oxenford      NaN  \n",
       "\n",
       "[636 rows x 18 columns]"
      ]
     },
     "execution_count": 7,
     "metadata": {},
     "output_type": "execute_result"
    }
   ],
   "source": [
    "data"
   ]
  },
  {
   "cell_type": "code",
   "execution_count": 9,
   "id": "7dbe5813-f3fe-4b21-b9e4-bfb9a8f49bec",
   "metadata": {},
   "outputs": [
    {
     "data": {
      "text/plain": [
       "pandas.core.frame.DataFrame"
      ]
     },
     "execution_count": 9,
     "metadata": {},
     "output_type": "execute_result"
    }
   ],
   "source": [
    "type(data)"
   ]
  },
  {
   "cell_type": "code",
   "execution_count": 11,
   "id": "1309ed3c-52d8-4807-a7b4-eadb2368bcf7",
   "metadata": {},
   "outputs": [
    {
     "data": {
      "text/plain": [
       "(636, 18)"
      ]
     },
     "execution_count": 11,
     "metadata": {},
     "output_type": "execute_result"
    }
   ],
   "source": [
    "data.shape"
   ]
  },
  {
   "cell_type": "code",
   "execution_count": 13,
   "id": "d6ff9d84-1010-488c-a627-4f9328bb9ce5",
   "metadata": {},
   "outputs": [
    {
     "name": "stdout",
     "output_type": "stream",
     "text": [
      "<class 'pandas.core.frame.DataFrame'>\n",
      "RangeIndex: 636 entries, 0 to 635\n",
      "Data columns (total 18 columns):\n",
      " #   Column           Non-Null Count  Dtype  \n",
      "---  ------           --------------  -----  \n",
      " 0   id               636 non-null    int64  \n",
      " 1   season           636 non-null    int64  \n",
      " 2   city             629 non-null    object \n",
      " 3   date             636 non-null    object \n",
      " 4   team1            636 non-null    object \n",
      " 5   team2            636 non-null    object \n",
      " 6   toss_winner      636 non-null    object \n",
      " 7   toss_decision    636 non-null    object \n",
      " 8   result           636 non-null    object \n",
      " 9   dl_applied       636 non-null    int64  \n",
      " 10  winner           633 non-null    object \n",
      " 11  win_by_runs      636 non-null    int64  \n",
      " 12  win_by_wickets   636 non-null    int64  \n",
      " 13  player_of_match  633 non-null    object \n",
      " 14  venue            636 non-null    object \n",
      " 15  umpire1          635 non-null    object \n",
      " 16  umpire2          635 non-null    object \n",
      " 17  umpire3          0 non-null      float64\n",
      "dtypes: float64(1), int64(5), object(12)\n",
      "memory usage: 89.6+ KB\n"
     ]
    }
   ],
   "source": [
    "data.info()"
   ]
  },
  {
   "cell_type": "code",
   "execution_count": 15,
   "id": "32bca6c1-a676-44c4-8467-bcf28fb664ef",
   "metadata": {},
   "outputs": [
    {
     "data": {
      "text/html": [
       "<div>\n",
       "<style scoped>\n",
       "    .dataframe tbody tr th:only-of-type {\n",
       "        vertical-align: middle;\n",
       "    }\n",
       "\n",
       "    .dataframe tbody tr th {\n",
       "        vertical-align: top;\n",
       "    }\n",
       "\n",
       "    .dataframe thead th {\n",
       "        text-align: right;\n",
       "    }\n",
       "</style>\n",
       "<table border=\"1\" class=\"dataframe\">\n",
       "  <thead>\n",
       "    <tr style=\"text-align: right;\">\n",
       "      <th></th>\n",
       "      <th>id</th>\n",
       "      <th>season</th>\n",
       "      <th>dl_applied</th>\n",
       "      <th>win_by_runs</th>\n",
       "      <th>win_by_wickets</th>\n",
       "      <th>umpire3</th>\n",
       "    </tr>\n",
       "  </thead>\n",
       "  <tbody>\n",
       "    <tr>\n",
       "      <th>count</th>\n",
       "      <td>636.000000</td>\n",
       "      <td>636.000000</td>\n",
       "      <td>636.000000</td>\n",
       "      <td>636.000000</td>\n",
       "      <td>636.000000</td>\n",
       "      <td>0.0</td>\n",
       "    </tr>\n",
       "    <tr>\n",
       "      <th>mean</th>\n",
       "      <td>318.500000</td>\n",
       "      <td>2012.490566</td>\n",
       "      <td>0.025157</td>\n",
       "      <td>13.682390</td>\n",
       "      <td>3.372642</td>\n",
       "      <td>NaN</td>\n",
       "    </tr>\n",
       "    <tr>\n",
       "      <th>std</th>\n",
       "      <td>183.741666</td>\n",
       "      <td>2.773026</td>\n",
       "      <td>0.156726</td>\n",
       "      <td>23.908877</td>\n",
       "      <td>3.420338</td>\n",
       "      <td>NaN</td>\n",
       "    </tr>\n",
       "    <tr>\n",
       "      <th>min</th>\n",
       "      <td>1.000000</td>\n",
       "      <td>2008.000000</td>\n",
       "      <td>0.000000</td>\n",
       "      <td>0.000000</td>\n",
       "      <td>0.000000</td>\n",
       "      <td>NaN</td>\n",
       "    </tr>\n",
       "    <tr>\n",
       "      <th>25%</th>\n",
       "      <td>159.750000</td>\n",
       "      <td>2010.000000</td>\n",
       "      <td>0.000000</td>\n",
       "      <td>0.000000</td>\n",
       "      <td>0.000000</td>\n",
       "      <td>NaN</td>\n",
       "    </tr>\n",
       "    <tr>\n",
       "      <th>50%</th>\n",
       "      <td>318.500000</td>\n",
       "      <td>2012.000000</td>\n",
       "      <td>0.000000</td>\n",
       "      <td>0.000000</td>\n",
       "      <td>4.000000</td>\n",
       "      <td>NaN</td>\n",
       "    </tr>\n",
       "    <tr>\n",
       "      <th>75%</th>\n",
       "      <td>477.250000</td>\n",
       "      <td>2015.000000</td>\n",
       "      <td>0.000000</td>\n",
       "      <td>20.000000</td>\n",
       "      <td>7.000000</td>\n",
       "      <td>NaN</td>\n",
       "    </tr>\n",
       "    <tr>\n",
       "      <th>max</th>\n",
       "      <td>636.000000</td>\n",
       "      <td>2017.000000</td>\n",
       "      <td>1.000000</td>\n",
       "      <td>146.000000</td>\n",
       "      <td>10.000000</td>\n",
       "      <td>NaN</td>\n",
       "    </tr>\n",
       "  </tbody>\n",
       "</table>\n",
       "</div>"
      ],
      "text/plain": [
       "               id       season  dl_applied  win_by_runs  win_by_wickets  \\\n",
       "count  636.000000   636.000000  636.000000   636.000000      636.000000   \n",
       "mean   318.500000  2012.490566    0.025157    13.682390        3.372642   \n",
       "std    183.741666     2.773026    0.156726    23.908877        3.420338   \n",
       "min      1.000000  2008.000000    0.000000     0.000000        0.000000   \n",
       "25%    159.750000  2010.000000    0.000000     0.000000        0.000000   \n",
       "50%    318.500000  2012.000000    0.000000     0.000000        4.000000   \n",
       "75%    477.250000  2015.000000    0.000000    20.000000        7.000000   \n",
       "max    636.000000  2017.000000    1.000000   146.000000       10.000000   \n",
       "\n",
       "       umpire3  \n",
       "count      0.0  \n",
       "mean       NaN  \n",
       "std        NaN  \n",
       "min        NaN  \n",
       "25%        NaN  \n",
       "50%        NaN  \n",
       "75%        NaN  \n",
       "max        NaN  "
      ]
     },
     "execution_count": 15,
     "metadata": {},
     "output_type": "execute_result"
    }
   ],
   "source": [
    "data.describe()"
   ]
  },
  {
   "cell_type": "code",
   "execution_count": 17,
   "id": "b504b70f-2572-4ca6-bd11-33fb30d78d99",
   "metadata": {},
   "outputs": [
    {
     "data": {
      "text/html": [
       "<div>\n",
       "<style scoped>\n",
       "    .dataframe tbody tr th:only-of-type {\n",
       "        vertical-align: middle;\n",
       "    }\n",
       "\n",
       "    .dataframe tbody tr th {\n",
       "        vertical-align: top;\n",
       "    }\n",
       "\n",
       "    .dataframe thead th {\n",
       "        text-align: right;\n",
       "    }\n",
       "</style>\n",
       "<table border=\"1\" class=\"dataframe\">\n",
       "  <thead>\n",
       "    <tr style=\"text-align: right;\">\n",
       "      <th></th>\n",
       "      <th>id</th>\n",
       "      <th>season</th>\n",
       "      <th>city</th>\n",
       "      <th>date</th>\n",
       "      <th>team1</th>\n",
       "      <th>team2</th>\n",
       "      <th>toss_winner</th>\n",
       "      <th>toss_decision</th>\n",
       "      <th>result</th>\n",
       "      <th>dl_applied</th>\n",
       "      <th>winner</th>\n",
       "      <th>win_by_runs</th>\n",
       "      <th>win_by_wickets</th>\n",
       "      <th>player_of_match</th>\n",
       "      <th>venue</th>\n",
       "      <th>umpire1</th>\n",
       "      <th>umpire2</th>\n",
       "      <th>umpire3</th>\n",
       "    </tr>\n",
       "  </thead>\n",
       "  <tbody>\n",
       "    <tr>\n",
       "      <th>0</th>\n",
       "      <td>1</td>\n",
       "      <td>2017</td>\n",
       "      <td>Hyderabad</td>\n",
       "      <td>2017-04-05</td>\n",
       "      <td>Sunrisers Hyderabad</td>\n",
       "      <td>Royal Challengers Bangalore</td>\n",
       "      <td>Royal Challengers Bangalore</td>\n",
       "      <td>field</td>\n",
       "      <td>normal</td>\n",
       "      <td>0</td>\n",
       "      <td>Sunrisers Hyderabad</td>\n",
       "      <td>35</td>\n",
       "      <td>0</td>\n",
       "      <td>Yuvraj Singh</td>\n",
       "      <td>Rajiv Gandhi International Stadium, Uppal</td>\n",
       "      <td>AY Dandekar</td>\n",
       "      <td>NJ Llong</td>\n",
       "      <td>NaN</td>\n",
       "    </tr>\n",
       "    <tr>\n",
       "      <th>1</th>\n",
       "      <td>2</td>\n",
       "      <td>2017</td>\n",
       "      <td>Pune</td>\n",
       "      <td>2017-04-06</td>\n",
       "      <td>Mumbai Indians</td>\n",
       "      <td>Rising Pune Supergiant</td>\n",
       "      <td>Rising Pune Supergiant</td>\n",
       "      <td>field</td>\n",
       "      <td>normal</td>\n",
       "      <td>0</td>\n",
       "      <td>Rising Pune Supergiant</td>\n",
       "      <td>0</td>\n",
       "      <td>7</td>\n",
       "      <td>SPD Smith</td>\n",
       "      <td>Maharashtra Cricket Association Stadium</td>\n",
       "      <td>A Nand Kishore</td>\n",
       "      <td>S Ravi</td>\n",
       "      <td>NaN</td>\n",
       "    </tr>\n",
       "    <tr>\n",
       "      <th>2</th>\n",
       "      <td>3</td>\n",
       "      <td>2017</td>\n",
       "      <td>Rajkot</td>\n",
       "      <td>2017-04-07</td>\n",
       "      <td>Gujarat Lions</td>\n",
       "      <td>Kolkata Knight Riders</td>\n",
       "      <td>Kolkata Knight Riders</td>\n",
       "      <td>field</td>\n",
       "      <td>normal</td>\n",
       "      <td>0</td>\n",
       "      <td>Kolkata Knight Riders</td>\n",
       "      <td>0</td>\n",
       "      <td>10</td>\n",
       "      <td>CA Lynn</td>\n",
       "      <td>Saurashtra Cricket Association Stadium</td>\n",
       "      <td>Nitin Menon</td>\n",
       "      <td>CK Nandan</td>\n",
       "      <td>NaN</td>\n",
       "    </tr>\n",
       "    <tr>\n",
       "      <th>3</th>\n",
       "      <td>4</td>\n",
       "      <td>2017</td>\n",
       "      <td>Indore</td>\n",
       "      <td>2017-04-08</td>\n",
       "      <td>Rising Pune Supergiant</td>\n",
       "      <td>Kings XI Punjab</td>\n",
       "      <td>Kings XI Punjab</td>\n",
       "      <td>field</td>\n",
       "      <td>normal</td>\n",
       "      <td>0</td>\n",
       "      <td>Kings XI Punjab</td>\n",
       "      <td>0</td>\n",
       "      <td>6</td>\n",
       "      <td>GJ Maxwell</td>\n",
       "      <td>Holkar Cricket Stadium</td>\n",
       "      <td>AK Chaudhary</td>\n",
       "      <td>C Shamshuddin</td>\n",
       "      <td>NaN</td>\n",
       "    </tr>\n",
       "    <tr>\n",
       "      <th>4</th>\n",
       "      <td>5</td>\n",
       "      <td>2017</td>\n",
       "      <td>Bangalore</td>\n",
       "      <td>2017-04-08</td>\n",
       "      <td>Royal Challengers Bangalore</td>\n",
       "      <td>Delhi Daredevils</td>\n",
       "      <td>Royal Challengers Bangalore</td>\n",
       "      <td>bat</td>\n",
       "      <td>normal</td>\n",
       "      <td>0</td>\n",
       "      <td>Royal Challengers Bangalore</td>\n",
       "      <td>15</td>\n",
       "      <td>0</td>\n",
       "      <td>KM Jadhav</td>\n",
       "      <td>M Chinnaswamy Stadium</td>\n",
       "      <td>NaN</td>\n",
       "      <td>NaN</td>\n",
       "      <td>NaN</td>\n",
       "    </tr>\n",
       "  </tbody>\n",
       "</table>\n",
       "</div>"
      ],
      "text/plain": [
       "   id  season       city        date                        team1  \\\n",
       "0   1    2017  Hyderabad  2017-04-05          Sunrisers Hyderabad   \n",
       "1   2    2017       Pune  2017-04-06               Mumbai Indians   \n",
       "2   3    2017     Rajkot  2017-04-07                Gujarat Lions   \n",
       "3   4    2017     Indore  2017-04-08       Rising Pune Supergiant   \n",
       "4   5    2017  Bangalore  2017-04-08  Royal Challengers Bangalore   \n",
       "\n",
       "                         team2                  toss_winner toss_decision  \\\n",
       "0  Royal Challengers Bangalore  Royal Challengers Bangalore         field   \n",
       "1       Rising Pune Supergiant       Rising Pune Supergiant         field   \n",
       "2        Kolkata Knight Riders        Kolkata Knight Riders         field   \n",
       "3              Kings XI Punjab              Kings XI Punjab         field   \n",
       "4             Delhi Daredevils  Royal Challengers Bangalore           bat   \n",
       "\n",
       "   result  dl_applied                       winner  win_by_runs  \\\n",
       "0  normal           0          Sunrisers Hyderabad           35   \n",
       "1  normal           0       Rising Pune Supergiant            0   \n",
       "2  normal           0        Kolkata Knight Riders            0   \n",
       "3  normal           0              Kings XI Punjab            0   \n",
       "4  normal           0  Royal Challengers Bangalore           15   \n",
       "\n",
       "   win_by_wickets player_of_match                                      venue  \\\n",
       "0               0    Yuvraj Singh  Rajiv Gandhi International Stadium, Uppal   \n",
       "1               7       SPD Smith    Maharashtra Cricket Association Stadium   \n",
       "2              10         CA Lynn     Saurashtra Cricket Association Stadium   \n",
       "3               6      GJ Maxwell                     Holkar Cricket Stadium   \n",
       "4               0       KM Jadhav                      M Chinnaswamy Stadium   \n",
       "\n",
       "          umpire1        umpire2  umpire3  \n",
       "0     AY Dandekar       NJ Llong      NaN  \n",
       "1  A Nand Kishore         S Ravi      NaN  \n",
       "2     Nitin Menon      CK Nandan      NaN  \n",
       "3    AK Chaudhary  C Shamshuddin      NaN  \n",
       "4             NaN            NaN      NaN  "
      ]
     },
     "execution_count": 17,
     "metadata": {},
     "output_type": "execute_result"
    }
   ],
   "source": [
    "data.head()"
   ]
  },
  {
   "cell_type": "code",
   "execution_count": 19,
   "id": "d18c440d-9857-4e36-bc1d-8b98f6544ef1",
   "metadata": {},
   "outputs": [
    {
     "data": {
      "text/plain": [
       "0              Sunrisers Hyderabad\n",
       "1           Rising Pune Supergiant\n",
       "2            Kolkata Knight Riders\n",
       "3                  Kings XI Punjab\n",
       "4      Royal Challengers Bangalore\n",
       "                  ...             \n",
       "631    Royal Challengers Bangalore\n",
       "632    Royal Challengers Bangalore\n",
       "633            Sunrisers Hyderabad\n",
       "634            Sunrisers Hyderabad\n",
       "635            Sunrisers Hyderabad\n",
       "Name: winner, Length: 636, dtype: object"
      ]
     },
     "execution_count": 19,
     "metadata": {},
     "output_type": "execute_result"
    }
   ],
   "source": [
    "data['winner']"
   ]
  },
  {
   "cell_type": "code",
   "execution_count": 23,
   "id": "1a0975a7-af50-4948-bca5-0edd06de53fe",
   "metadata": {},
   "outputs": [
    {
     "data": {
      "text/plain": [
       "(636, 3)"
      ]
     },
     "execution_count": 23,
     "metadata": {},
     "output_type": "execute_result"
    }
   ],
   "source": [
    "data[['team1','team2','winner']].shape"
   ]
  },
  {
   "cell_type": "code",
   "execution_count": 31,
   "id": "9c28d4e4-f739-4d2e-b8be-0aef6488452c",
   "metadata": {},
   "outputs": [
    {
     "data": {
      "text/plain": [
       "pandas.core.series.Series"
      ]
     },
     "execution_count": 31,
     "metadata": {},
     "output_type": "execute_result"
    }
   ],
   "source": [
    "type(data.iloc[0])"
   ]
  },
  {
   "cell_type": "code",
   "execution_count": 37,
   "id": "86f221b4-bfdf-4761-85b7-7eae3884da66",
   "metadata": {},
   "outputs": [
    {
     "data": {
      "text/html": [
       "<div>\n",
       "<style scoped>\n",
       "    .dataframe tbody tr th:only-of-type {\n",
       "        vertical-align: middle;\n",
       "    }\n",
       "\n",
       "    .dataframe tbody tr th {\n",
       "        vertical-align: top;\n",
       "    }\n",
       "\n",
       "    .dataframe thead th {\n",
       "        text-align: right;\n",
       "    }\n",
       "</style>\n",
       "<table border=\"1\" class=\"dataframe\">\n",
       "  <thead>\n",
       "    <tr style=\"text-align: right;\">\n",
       "      <th></th>\n",
       "      <th>id</th>\n",
       "      <th>season</th>\n",
       "      <th>city</th>\n",
       "      <th>date</th>\n",
       "      <th>team1</th>\n",
       "      <th>team2</th>\n",
       "      <th>toss_winner</th>\n",
       "      <th>toss_decision</th>\n",
       "      <th>result</th>\n",
       "      <th>dl_applied</th>\n",
       "      <th>winner</th>\n",
       "      <th>win_by_runs</th>\n",
       "      <th>win_by_wickets</th>\n",
       "      <th>player_of_match</th>\n",
       "      <th>venue</th>\n",
       "      <th>umpire1</th>\n",
       "      <th>umpire2</th>\n",
       "      <th>umpire3</th>\n",
       "    </tr>\n",
       "  </thead>\n",
       "  <tbody>\n",
       "    <tr>\n",
       "      <th>1</th>\n",
       "      <td>2</td>\n",
       "      <td>2017</td>\n",
       "      <td>Pune</td>\n",
       "      <td>2017-04-06</td>\n",
       "      <td>Mumbai Indians</td>\n",
       "      <td>Rising Pune Supergiant</td>\n",
       "      <td>Rising Pune Supergiant</td>\n",
       "      <td>field</td>\n",
       "      <td>normal</td>\n",
       "      <td>0</td>\n",
       "      <td>Rising Pune Supergiant</td>\n",
       "      <td>0</td>\n",
       "      <td>7</td>\n",
       "      <td>SPD Smith</td>\n",
       "      <td>Maharashtra Cricket Association Stadium</td>\n",
       "      <td>A Nand Kishore</td>\n",
       "      <td>S Ravi</td>\n",
       "      <td>NaN</td>\n",
       "    </tr>\n",
       "    <tr>\n",
       "      <th>4</th>\n",
       "      <td>5</td>\n",
       "      <td>2017</td>\n",
       "      <td>Bangalore</td>\n",
       "      <td>2017-04-08</td>\n",
       "      <td>Royal Challengers Bangalore</td>\n",
       "      <td>Delhi Daredevils</td>\n",
       "      <td>Royal Challengers Bangalore</td>\n",
       "      <td>bat</td>\n",
       "      <td>normal</td>\n",
       "      <td>0</td>\n",
       "      <td>Royal Challengers Bangalore</td>\n",
       "      <td>15</td>\n",
       "      <td>0</td>\n",
       "      <td>KM Jadhav</td>\n",
       "      <td>M Chinnaswamy Stadium</td>\n",
       "      <td>NaN</td>\n",
       "      <td>NaN</td>\n",
       "      <td>NaN</td>\n",
       "    </tr>\n",
       "    <tr>\n",
       "      <th>7</th>\n",
       "      <td>8</td>\n",
       "      <td>2017</td>\n",
       "      <td>Indore</td>\n",
       "      <td>2017-04-10</td>\n",
       "      <td>Royal Challengers Bangalore</td>\n",
       "      <td>Kings XI Punjab</td>\n",
       "      <td>Royal Challengers Bangalore</td>\n",
       "      <td>bat</td>\n",
       "      <td>normal</td>\n",
       "      <td>0</td>\n",
       "      <td>Kings XI Punjab</td>\n",
       "      <td>0</td>\n",
       "      <td>8</td>\n",
       "      <td>AR Patel</td>\n",
       "      <td>Holkar Cricket Stadium</td>\n",
       "      <td>AK Chaudhary</td>\n",
       "      <td>C Shamshuddin</td>\n",
       "      <td>NaN</td>\n",
       "    </tr>\n",
       "  </tbody>\n",
       "</table>\n",
       "</div>"
      ],
      "text/plain": [
       "   id  season       city        date                        team1  \\\n",
       "1   2    2017       Pune  2017-04-06               Mumbai Indians   \n",
       "4   5    2017  Bangalore  2017-04-08  Royal Challengers Bangalore   \n",
       "7   8    2017     Indore  2017-04-10  Royal Challengers Bangalore   \n",
       "\n",
       "                    team2                  toss_winner toss_decision  result  \\\n",
       "1  Rising Pune Supergiant       Rising Pune Supergiant         field  normal   \n",
       "4        Delhi Daredevils  Royal Challengers Bangalore           bat  normal   \n",
       "7         Kings XI Punjab  Royal Challengers Bangalore           bat  normal   \n",
       "\n",
       "   dl_applied                       winner  win_by_runs  win_by_wickets  \\\n",
       "1           0       Rising Pune Supergiant            0               7   \n",
       "4           0  Royal Challengers Bangalore           15               0   \n",
       "7           0              Kings XI Punjab            0               8   \n",
       "\n",
       "  player_of_match                                    venue         umpire1  \\\n",
       "1       SPD Smith  Maharashtra Cricket Association Stadium  A Nand Kishore   \n",
       "4       KM Jadhav                    M Chinnaswamy Stadium             NaN   \n",
       "7        AR Patel                   Holkar Cricket Stadium    AK Chaudhary   \n",
       "\n",
       "         umpire2  umpire3  \n",
       "1         S Ravi      NaN  \n",
       "4            NaN      NaN  \n",
       "7  C Shamshuddin      NaN  "
      ]
     },
     "execution_count": 37,
     "metadata": {},
     "output_type": "execute_result"
    }
   ],
   "source": [
    "data.iloc[1:10:3]"
   ]
  },
  {
   "cell_type": "code",
   "execution_count": 39,
   "id": "c343987f-c8bc-45ab-9f81-c101a98014f9",
   "metadata": {},
   "outputs": [
    {
     "data": {
      "text/html": [
       "<div>\n",
       "<style scoped>\n",
       "    .dataframe tbody tr th:only-of-type {\n",
       "        vertical-align: middle;\n",
       "    }\n",
       "\n",
       "    .dataframe tbody tr th {\n",
       "        vertical-align: top;\n",
       "    }\n",
       "\n",
       "    .dataframe thead th {\n",
       "        text-align: right;\n",
       "    }\n",
       "</style>\n",
       "<table border=\"1\" class=\"dataframe\">\n",
       "  <thead>\n",
       "    <tr style=\"text-align: right;\">\n",
       "      <th></th>\n",
       "      <th>team1</th>\n",
       "      <th>team2</th>\n",
       "      <th>winner</th>\n",
       "    </tr>\n",
       "  </thead>\n",
       "  <tbody>\n",
       "    <tr>\n",
       "      <th>0</th>\n",
       "      <td>Sunrisers Hyderabad</td>\n",
       "      <td>Royal Challengers Bangalore</td>\n",
       "      <td>Sunrisers Hyderabad</td>\n",
       "    </tr>\n",
       "    <tr>\n",
       "      <th>1</th>\n",
       "      <td>Mumbai Indians</td>\n",
       "      <td>Rising Pune Supergiant</td>\n",
       "      <td>Rising Pune Supergiant</td>\n",
       "    </tr>\n",
       "    <tr>\n",
       "      <th>2</th>\n",
       "      <td>Gujarat Lions</td>\n",
       "      <td>Kolkata Knight Riders</td>\n",
       "      <td>Kolkata Knight Riders</td>\n",
       "    </tr>\n",
       "    <tr>\n",
       "      <th>3</th>\n",
       "      <td>Rising Pune Supergiant</td>\n",
       "      <td>Kings XI Punjab</td>\n",
       "      <td>Kings XI Punjab</td>\n",
       "    </tr>\n",
       "    <tr>\n",
       "      <th>4</th>\n",
       "      <td>Royal Challengers Bangalore</td>\n",
       "      <td>Delhi Daredevils</td>\n",
       "      <td>Royal Challengers Bangalore</td>\n",
       "    </tr>\n",
       "    <tr>\n",
       "      <th>...</th>\n",
       "      <td>...</td>\n",
       "      <td>...</td>\n",
       "      <td>...</td>\n",
       "    </tr>\n",
       "    <tr>\n",
       "      <th>631</th>\n",
       "      <td>Delhi Daredevils</td>\n",
       "      <td>Royal Challengers Bangalore</td>\n",
       "      <td>Royal Challengers Bangalore</td>\n",
       "    </tr>\n",
       "    <tr>\n",
       "      <th>632</th>\n",
       "      <td>Gujarat Lions</td>\n",
       "      <td>Royal Challengers Bangalore</td>\n",
       "      <td>Royal Challengers Bangalore</td>\n",
       "    </tr>\n",
       "    <tr>\n",
       "      <th>633</th>\n",
       "      <td>Sunrisers Hyderabad</td>\n",
       "      <td>Kolkata Knight Riders</td>\n",
       "      <td>Sunrisers Hyderabad</td>\n",
       "    </tr>\n",
       "    <tr>\n",
       "      <th>634</th>\n",
       "      <td>Gujarat Lions</td>\n",
       "      <td>Sunrisers Hyderabad</td>\n",
       "      <td>Sunrisers Hyderabad</td>\n",
       "    </tr>\n",
       "    <tr>\n",
       "      <th>635</th>\n",
       "      <td>Sunrisers Hyderabad</td>\n",
       "      <td>Royal Challengers Bangalore</td>\n",
       "      <td>Sunrisers Hyderabad</td>\n",
       "    </tr>\n",
       "  </tbody>\n",
       "</table>\n",
       "<p>636 rows × 3 columns</p>\n",
       "</div>"
      ],
      "text/plain": [
       "                           team1                        team2  \\\n",
       "0            Sunrisers Hyderabad  Royal Challengers Bangalore   \n",
       "1                 Mumbai Indians       Rising Pune Supergiant   \n",
       "2                  Gujarat Lions        Kolkata Knight Riders   \n",
       "3         Rising Pune Supergiant              Kings XI Punjab   \n",
       "4    Royal Challengers Bangalore             Delhi Daredevils   \n",
       "..                           ...                          ...   \n",
       "631             Delhi Daredevils  Royal Challengers Bangalore   \n",
       "632                Gujarat Lions  Royal Challengers Bangalore   \n",
       "633          Sunrisers Hyderabad        Kolkata Knight Riders   \n",
       "634                Gujarat Lions          Sunrisers Hyderabad   \n",
       "635          Sunrisers Hyderabad  Royal Challengers Bangalore   \n",
       "\n",
       "                          winner  \n",
       "0            Sunrisers Hyderabad  \n",
       "1         Rising Pune Supergiant  \n",
       "2          Kolkata Knight Riders  \n",
       "3                Kings XI Punjab  \n",
       "4    Royal Challengers Bangalore  \n",
       "..                           ...  \n",
       "631  Royal Challengers Bangalore  \n",
       "632  Royal Challengers Bangalore  \n",
       "633          Sunrisers Hyderabad  \n",
       "634          Sunrisers Hyderabad  \n",
       "635          Sunrisers Hyderabad  \n",
       "\n",
       "[636 rows x 3 columns]"
      ]
     },
     "execution_count": 39,
     "metadata": {},
     "output_type": "execute_result"
    }
   ],
   "source": [
    "data.iloc[:,[4,5,10]]"
   ]
  },
  {
   "cell_type": "code",
   "execution_count": 45,
   "id": "78377f06-f3f6-469c-97a3-d6cddf9e8061",
   "metadata": {},
   "outputs": [],
   "source": [
    "mask=data['city']=='Hyderabad'"
   ]
  },
  {
   "cell_type": "code",
   "execution_count": 49,
   "id": "768c3486-b1c2-4024-bf27-a3f1f72421c8",
   "metadata": {},
   "outputs": [
    {
     "data": {
      "text/plain": [
       "(49, 18)"
      ]
     },
     "execution_count": 49,
     "metadata": {},
     "output_type": "execute_result"
    }
   ],
   "source": [
    "data[mask].shape"
   ]
  },
  {
   "cell_type": "code",
   "execution_count": 57,
   "id": "74feec6b-0f8a-499b-bfaa-b7cc3f60bf16",
   "metadata": {},
   "outputs": [],
   "source": [
    "def get_match_count(city):\n",
    "    mask=data['city']=='Hyderabad'\n",
    "    return data[mask].shape[0]"
   ]
  },
  {
   "cell_type": "code",
   "execution_count": 59,
   "id": "21ff540e-ddea-480b-812d-a1ee5727ac87",
   "metadata": {},
   "outputs": [
    {
     "data": {
      "text/plain": [
       "49"
      ]
     },
     "execution_count": 59,
     "metadata": {},
     "output_type": "execute_result"
    }
   ],
   "source": [
    "get_match_count('Pune')"
   ]
  },
  {
   "cell_type": "code",
   "execution_count": 75,
   "id": "3b97538c-8635-4e5c-b51b-f22072731659",
   "metadata": {},
   "outputs": [
    {
     "data": {
      "text/plain": [
       "(71, 18)"
      ]
     },
     "execution_count": 75,
     "metadata": {},
     "output_type": "execute_result"
    }
   ],
   "source": [
    "mask1=data['city']=='Hyderabad'\n",
    "mask2=data['date']>'2010-01-01'\n",
    "mask3=data['winner']=='Sunrisers Hyderabad'\n",
    "data[mask1 | mask3 ].shape"
   ]
  },
  {
   "cell_type": "code",
   "execution_count": 77,
   "id": "d8d1f04b-3e23-4ea0-b7f3-0ce2423a51a8",
   "metadata": {
    "jupyter": {
     "source_hidden": true
    }
   },
   "outputs": [
    {
     "data": {
      "text/plain": [
       "winner\n",
       "Mumbai Indians                 92\n",
       "Chennai Super Kings            79\n",
       "Kolkata Knight Riders          77\n",
       "Royal Challengers Bangalore    73\n",
       "Kings XI Punjab                70\n",
       "Rajasthan Royals               63\n",
       "Delhi Daredevils               62\n",
       "Sunrisers Hyderabad            42\n",
       "Deccan Chargers                29\n",
       "Gujarat Lions                  13\n",
       "Pune Warriors                  12\n",
       "Rising Pune Supergiant         10\n",
       "Kochi Tuskers Kerala            6\n",
       "Rising Pune Supergiants         5\n",
       "Name: count, dtype: int64"
      ]
     },
     "execution_count": 77,
     "metadata": {},
     "output_type": "execute_result"
    }
   ],
   "source": [
    "data['winner'].value_counts()"
   ]
  },
  {
   "cell_type": "code",
   "execution_count": 79,
   "id": "24298487-6b66-4b58-9b56-5c33a9982e57",
   "metadata": {},
   "outputs": [],
   "source": [
    "import matplotlib.pyplot as plt"
   ]
  },
  {
   "cell_type": "code",
   "execution_count": 83,
   "id": "44c6fe61-d7c1-4ac9-8198-5da060d15cc0",
   "metadata": {},
   "outputs": [
    {
     "data": {
      "text/plain": [
       "<Axes: xlabel='winner'>"
      ]
     },
     "execution_count": 83,
     "metadata": {},
     "output_type": "execute_result"
    },
    {
     "data": {
      "image/png": "[encoded data removed]",
      "text/plain": [
       "<Figure size 640x480 with 1 Axes>"
      ]
     },
     "metadata": {},
     "output_type": "display_data"
    }
   ],
   "source": [
    "data['winner'].value_counts().head().plot(kind='bar')"
   ]
  },
  {
   "cell_type": "code",
   "execution_count": 89,
   "id": "7dc9b2ff-1690-4a59-826d-0fe34605f85d",
   "metadata": {},
   "outputs": [
    {
     "data": {
      "text/plain": [
       "<Axes: ylabel='count'>"
      ]
     },
     "execution_count": 89,
     "metadata": {},
     "output_type": "execute_result"
    },
    {
     "data": {
      "image/png": "[encoded data removed]",
      "text/plain": [
       "<Figure size 640x480 with 1 Axes>"
      ]
     },
     "metadata": {},
     "output_type": "display_data"
    }
   ],
   "source": [
    "data['winner'].value_counts().head().plot(kind='pie')"
   ]
  },
  {
   "cell_type": "code",
   "execution_count": 93,
   "id": "eb782ee0-45b0-4270-bfe2-bb6965101652",
   "metadata": {},
   "outputs": [
    {
     "data": {
      "text/plain": [
       "Chennai Super Kings            131\n",
       "Deccan Chargers                 75\n",
       "Delhi Daredevils               147\n",
       "Gujarat Lions                   30\n",
       "Kings XI Punjab                148\n",
       "Kochi Tuskers Kerala            14\n",
       "Kolkata Knight Riders          148\n",
       "Mumbai Indians                 157\n",
       "Pune Warriors                   46\n",
       "Rajasthan Royals               118\n",
       "Rising Pune Supergiant          16\n",
       "Rising Pune Supergiants         14\n",
       "Royal Challengers Bangalore    152\n",
       "Sunrisers Hyderabad             76\n",
       "Name: count, dtype: int64"
      ]
     },
     "execution_count": 93,
     "metadata": {},
     "output_type": "execute_result"
    }
   ],
   "source": [
    "data['team1'].value_counts()+data['team2'].value_counts()"
   ]
  },
  {
   "cell_type": "code",
   "execution_count": 105,
   "id": "32c480ef-b010-4546-b74e-7ff683ea5ce4",
   "metadata": {},
   "outputs": [
    {
     "data": {
      "text/plain": [
       "Mumbai Indians                 157\n",
       "Royal Challengers Bangalore    152\n",
       "Kings XI Punjab                148\n",
       "Kolkata Knight Riders          148\n",
       "Delhi Daredevils               147\n",
       "Chennai Super Kings            131\n",
       "Rajasthan Royals               118\n",
       "Sunrisers Hyderabad             76\n",
       "Deccan Chargers                 75\n",
       "Pune Warriors                   46\n",
       "Gujarat Lions                   30\n",
       "Rising Pune Supergiant          16\n",
       "Kochi Tuskers Kerala            14\n",
       "Rising Pune Supergiants         14\n",
       "Name: count, dtype: int64"
      ]
     },
     "execution_count": 105,
     "metadata": {},
     "output_type": "execute_result"
    }
   ],
   "source": [
    "(data['team1'].value_counts()+data['team2'].value_counts()).sort_values(ascending=False)"
   ]
  },
  {
   "cell_type": "code",
   "execution_count": 3,
   "id": "47b69f57-1aaa-42fc-85c1-d7b8bd7a5960",
   "metadata": {},
   "outputs": [],
   "source": [
    "import pandas as pd"
   ]
  },
  {
   "cell_type": "code",
   "execution_count": 5,
   "id": "9414b262-cd8f-4a96-8da6-633dd58208e0",
   "metadata": {},
   "outputs": [],
   "source": [
    "data=pd.read_csv('matches - matches.csv')"
   ]
  },
  {
   "cell_type": "code",
   "execution_count": 7,
   "id": "7a5edb87-63bb-47ee-a09b-f2778253d3d4",
   "metadata": {},
   "outputs": [],
   "source": [
    "import numpy as np"
   ]
  },
  {
   "cell_type": "code",
   "execution_count": 15,
   "id": "05a6d4ae-d518-454c-8d2a-18fa6fb1ed2d",
   "metadata": {},
   "outputs": [
    {
     "data": {
      "text/html": [
       "<div>\n",
       "<style scoped>\n",
       "    .dataframe tbody tr th:only-of-type {\n",
       "        vertical-align: middle;\n",
       "    }\n",
       "\n",
       "    .dataframe tbody tr th {\n",
       "        vertical-align: top;\n",
       "    }\n",
       "\n",
       "    .dataframe thead th {\n",
       "        text-align: right;\n",
       "    }\n",
       "</style>\n",
       "<table border=\"1\" class=\"dataframe\">\n",
       "  <thead>\n",
       "    <tr style=\"text-align: right;\">\n",
       "      <th></th>\n",
       "      <th>season</th>\n",
       "      <th>winner</th>\n",
       "    </tr>\n",
       "  </thead>\n",
       "  <tbody>\n",
       "    <tr>\n",
       "      <th>58</th>\n",
       "      <td>2017</td>\n",
       "      <td>Mumbai Indians</td>\n",
       "    </tr>\n",
       "    <tr>\n",
       "      <th>635</th>\n",
       "      <td>2016</td>\n",
       "      <td>Sunrisers Hyderabad</td>\n",
       "    </tr>\n",
       "    <tr>\n",
       "      <th>575</th>\n",
       "      <td>2015</td>\n",
       "      <td>Mumbai Indians</td>\n",
       "    </tr>\n",
       "    <tr>\n",
       "      <th>516</th>\n",
       "      <td>2014</td>\n",
       "      <td>Kolkata Knight Riders</td>\n",
       "    </tr>\n",
       "    <tr>\n",
       "      <th>456</th>\n",
       "      <td>2013</td>\n",
       "      <td>Mumbai Indians</td>\n",
       "    </tr>\n",
       "    <tr>\n",
       "      <th>380</th>\n",
       "      <td>2012</td>\n",
       "      <td>Kolkata Knight Riders</td>\n",
       "    </tr>\n",
       "    <tr>\n",
       "      <th>306</th>\n",
       "      <td>2011</td>\n",
       "      <td>Chennai Super Kings</td>\n",
       "    </tr>\n",
       "    <tr>\n",
       "      <th>233</th>\n",
       "      <td>2010</td>\n",
       "      <td>Chennai Super Kings</td>\n",
       "    </tr>\n",
       "    <tr>\n",
       "      <th>173</th>\n",
       "      <td>2009</td>\n",
       "      <td>Deccan Chargers</td>\n",
       "    </tr>\n",
       "    <tr>\n",
       "      <th>116</th>\n",
       "      <td>2008</td>\n",
       "      <td>Rajasthan Royals</td>\n",
       "    </tr>\n",
       "  </tbody>\n",
       "</table>\n",
       "</div>"
      ],
      "text/plain": [
       "     season                 winner\n",
       "58     2017         Mumbai Indians\n",
       "635    2016    Sunrisers Hyderabad\n",
       "575    2015         Mumbai Indians\n",
       "516    2014  Kolkata Knight Riders\n",
       "456    2013         Mumbai Indians\n",
       "380    2012  Kolkata Knight Riders\n",
       "306    2011    Chennai Super Kings\n",
       "233    2010    Chennai Super Kings\n",
       "173    2009        Deccan Chargers\n",
       "116    2008       Rajasthan Royals"
      ]
     },
     "execution_count": 15,
     "metadata": {},
     "output_type": "execute_result"
    }
   ],
   "source": [
    "data.drop_duplicates('season',keep='last')[['season','winner']].sort_values('season',ascending=False)"
   ]
  },
  {
   "cell_type": "code",
   "execution_count": 1,
   "id": "b7bfeaac-968d-4b4b-b392-540b2d696ef4",
   "metadata": {},
   "outputs": [],
   "source": [
    "import numpy as np\n",
    "import pandas as pd"
   ]
  },
  {
   "cell_type": "code",
   "execution_count": 3,
   "id": "cd4b6fdd-019f-4e42-bf95-e376573d495f",
   "metadata": {},
   "outputs": [],
   "source": [
    "data=pd.read_csv('matches - matches.csv')"
   ]
  },
  {
   "cell_type": "code",
   "execution_count": 5,
   "id": "074d916d-fa66-4666-9daf-7cecbd95650c",
   "metadata": {},
   "outputs": [],
   "source": [
    "delivery=pd.read_csv('deliveries.csv')"
   ]
  },
  {
   "cell_type": "code",
   "execution_count": 15,
   "id": "3800876f-8bd4-4a2b-9712-75cc2cb4b631",
   "metadata": {},
   "outputs": [],
   "source": [
    "runs=delivery.groupby('batsman')"
   ]
  },
  {
   "cell_type": "code",
   "execution_count": 19,
   "id": "7acc788a-c354-4c88-b39a-509f8506ffe9",
   "metadata": {},
   "outputs": [
    {
     "data": {
      "text/plain": [
       "(3494, 21)"
      ]
     },
     "execution_count": 19,
     "metadata": {},
     "output_type": "execute_result"
    }
   ],
   "source": [
    "runs.get_group('V Kohli').shape"
   ]
  },
  {
   "cell_type": "code",
   "execution_count": 27,
   "id": "145375b0-f3c7-4210-898b-a530d55ee79a",
   "metadata": {},
   "outputs": [],
   "source": [
    "batsman_score=runs['batsman_runs'].sum()"
   ]
  },
  {
   "cell_type": "code",
   "execution_count": 29,
   "id": "d1af1899-c638-4983-ad22-3822e094b859",
   "metadata": {},
   "outputs": [
    {
     "data": {
      "text/plain": [
       "4423"
      ]
     },
     "execution_count": 29,
     "metadata": {},
     "output_type": "execute_result"
    }
   ],
   "source": [
    "batsman_score['V Kohli']"
   ]
  },
  {
   "cell_type": "code",
   "execution_count": 31,
   "id": "cb37f574-caad-4af7-b865-8d7a0909f92c",
   "metadata": {},
   "outputs": [],
   "source": [
    "mask=delivery['batsman_runs']==4\n",
    "new_delivery=delivery[mask]"
   ]
  },
  {
   "cell_type": "code",
   "execution_count": 39,
   "id": "960ca170-ad3b-4707-9283-6152942eb45d",
   "metadata": {},
   "outputs": [
    {
     "data": {
      "text/plain": [
       "17033"
      ]
     },
     "execution_count": 39,
     "metadata": {},
     "output_type": "execute_result"
    }
   ],
   "source": [
    "new_delivery.shape[0]"
   ]
  },
  {
   "cell_type": "code",
   "execution_count": 49,
   "id": "3d2894fd-51f7-46ad-a979-3c257168b6c2",
   "metadata": {},
   "outputs": [
    {
     "data": {
      "text/plain": [
       "batsman\n",
       "G Gambhir    484\n",
       "SK Raina     402\n",
       "DA Warner    401\n",
       "S Dhawan     401\n",
       "V Kohli      384\n",
       "Name: batsman_runs, dtype: int64"
      ]
     },
     "execution_count": 49,
     "metadata": {},
     "output_type": "execute_result"
    }
   ],
   "source": [
    "new_delivery.groupby('batsman')['batsman_runs'].count().sort_values(ascending=False).head(5)"
   ]
  },
  {
   "cell_type": "code",
   "execution_count": 69,
   "id": "17dd8a28-636b-4c47-898e-737c8cbf262f",
   "metadata": {},
   "outputs": [],
   "source": [
    "vk=delivery[delivery['batsman']=='V Kohli'].groupby('bowling_team')"
   ]
  },
  {
   "cell_type": "code",
   "execution_count": 81,
   "id": "d72e09ed-c6ae-4894-a1d8-a4ea3087345a",
   "metadata": {},
   "outputs": [
    {
     "data": {
      "text/plain": [
       "bowling_team\n",
       "Chennai Super Kings    706\n",
       "Delhi Daredevils       661\n",
       "Kings XI Punjab        483\n",
       "Name: batsman_runs, dtype: int64"
      ]
     },
     "execution_count": 81,
     "metadata": {},
     "output_type": "execute_result"
    }
   ],
   "source": [
    "vk['batsman_runs'].sum().sort_values(ascending=False).head(3)"
   ]
  },
  {
   "cell_type": "code",
   "execution_count": 103,
   "id": "9ceefc25-9774-49b2-b773-53b267f91e62",
   "metadata": {},
   "outputs": [],
   "source": [
    "def run_scored(batsman_name):\n",
    "    vk=delivery[delivery['batsman']==batsman_name].groupby('bowling_team')\n",
    "    return vk['batsman_runs'].sum().sort_values(ascending=False).head(1).index[0]"
   ]
  },
  {
   "cell_type": "code",
   "execution_count": 107,
   "id": "2735a3b4-ccc7-459e-806c-c2665e041c0b",
   "metadata": {},
   "outputs": [
    {
     "data": {
      "text/plain": [
       "'Kolkata Knight Riders'"
      ]
     },
     "execution_count": 107,
     "metadata": {},
     "output_type": "execute_result"
    }
   ],
   "source": [
    "run_scored('DA Warner')"
   ]
  },
  {
   "cell_type": "code",
   "execution_count": 113,
   "id": "113b31a2-96db-4780-aecb-3c094d22b87b",
   "metadata": {},
   "outputs": [],
   "source": [
    "death_overs=delivery[delivery['over']>15]"
   ]
  },
  {
   "cell_type": "code",
   "execution_count": 134,
   "id": "8e01f8d9-1c64-44e7-9a02-287ee436b286",
   "metadata": {},
   "outputs": [],
   "source": [
    "all_players=death_overs.groupby('batsman')['batsman_runs'].count()"
   ]
  },
  {
   "cell_type": "code",
   "execution_count": 160,
   "id": "33dbcc6d-af56-49cb-9402-95f646aebaaa",
   "metadata": {},
   "outputs": [],
   "source": [
    "x=all_players>200\n",
    "batsman_list=all_players[x].index.tolist()"
   ]
  },
  {
   "cell_type": "code",
   "execution_count": 184,
   "id": "3413fa06-325c-4f68-933e-ad934fc577c9",
   "metadata": {},
   "outputs": [],
   "source": [
    "#list of players who played more than 200 balls in last 16-20 overs\n",
    "final=delivery[delivery['batsman'].isin(batsman_list)]"
   ]
  },
  {
   "cell_type": "code",
   "execution_count": 186,
   "id": "fb2ff623-938a-4b36-98ba-39f7a04b0693",
   "metadata": {},
   "outputs": [],
   "source": [
    "#runs by these 43 batsman \n",
    "runs=final.groupby('batsman')['batsman_runs'].sum()"
   ]
  },
  {
   "cell_type": "code",
   "execution_count": 190,
   "id": "5a4514b6-2cc4-489e-af07-0fd34b04e52c",
   "metadata": {},
   "outputs": [],
   "source": [
    "#balls played by these 43 batsman\n",
    "balls=final.groupby('batsman')['batsman_runs'].count()"
   ]
  },
  {
   "cell_type": "code",
   "execution_count": 192,
   "id": "a620831d-1c1a-4ebc-85da-c4936f7fc50a",
   "metadata": {},
   "outputs": [],
   "source": [
    "sr=(runs/balls)*100"
   ]
  },
  {
   "cell_type": "code",
   "execution_count": 198,
   "id": "5143eded-3f03-4cac-bd7b-e19da312d879",
   "metadata": {},
   "outputs": [
    {
     "data": {
      "text/plain": [
       "batsman\n",
       "A Mishra             89.005236\n",
       "AB de Villiers      145.129059\n",
       "AD Mathews          120.868114\n",
       "AM Rahane           117.486549\n",
       "AR Patel            122.672065\n",
       "AT Rayudu           123.014257\n",
       "BJ Hodge            121.422376\n",
       "DA Miller           137.709251\n",
       "DA Warner           138.318401\n",
       "DJ Bravo            122.286822\n",
       "DJ Hussey           120.072661\n",
       "DPMD Jayawardene    118.791064\n",
       "Harbhajan Singh     135.194585\n",
       "IK Pathan           116.751269\n",
       "JA Morkel           136.938202\n",
       "JH Kallis           105.936272\n",
       "JP Duminy           121.970624\n",
       "JP Faulkner         129.802956\n",
       "KA Pollard          140.621266\n",
       "KD Karthik          123.008475\n",
       "KM Jadhav           130.555556\n",
       "LRPL Taylor         120.070838\n",
       "MK Pandey           116.938453\n",
       "MK Tiwary           114.127424\n",
       "MS Dhoni            132.835821\n",
       "NV Ojha             114.528024\n",
       "P Kumar             105.263158\n",
       "PP Chawla           110.278373\n",
       "R Vinay Kumar       106.666667\n",
       "RA Jadeja           118.792867\n",
       "RG Sharma           128.497251\n",
       "RV Uthappa          127.635135\n",
       "S Badrinath         115.742972\n",
       "S Dhawan            118.502496\n",
       "SK Raina            134.995548\n",
       "SPD Smith           128.507127\n",
       "SS Tiwary           114.851485\n",
       "STR Binny           123.747981\n",
       "V Kohli             126.588437\n",
       "WP Saha             127.727646\n",
       "Y Venugopal Rao     113.872832\n",
       "YK Pathan           140.751445\n",
       "Yuvraj Singh        126.390244\n",
       "Name: batsman_runs, dtype: float64"
      ]
     },
     "execution_count": 198,
     "metadata": {},
     "output_type": "execute_result"
    }
   ],
   "source": [
    "sr"
   ]
  },
  {
   "cell_type": "code",
   "execution_count": 216,
   "id": "f9c92c2a-e93d-4053-acb5-9685f9ebf751",
   "metadata": {},
   "outputs": [],
   "source": [
    "match=pd.read_csv('matches - matches.csv')\n",
    "new=delivery.merge(match,left_on='match_id',right_on='id')"
   ]
  },
  {
   "cell_type": "code",
   "execution_count": 218,
   "id": "45cfddb2-6588-4c8c-a67d-6e8e5e770ff7",
   "metadata": {},
   "outputs": [
    {
     "name": "stdout",
     "output_type": "stream",
     "text": [
      "(150460, 39)\n",
      "(150460, 21)\n",
      "(636, 18)\n"
     ]
    }
   ],
   "source": [
    "print(new.shape)\n",
    "print(delivery.shape)\n",
    "print(match.shape)"
   ]
  },
  {
   "cell_type": "code",
   "execution_count": 3,
   "id": "22e7ceae-602d-4fe8-9935-459a4077b169",
   "metadata": {},
   "outputs": [
    {
     "ename": "NameError",
     "evalue": "name 'new' is not defined",
     "output_type": "error",
     "traceback": [
      "\u001b[31m---------------------------------------------------------------------------\u001b[39m",
      "\u001b[31mNameError\u001b[39m                                 Traceback (most recent call last)",
      "\u001b[36mCell\u001b[39m\u001b[36m \u001b[39m\u001b[32mIn[3]\u001b[39m\u001b[32m, line 1\u001b[39m\n\u001b[32m----> \u001b[39m\u001b[32m1\u001b[39m \u001b[43mnew\u001b[49m.groupby([\u001b[33m'\u001b[39m\u001b[33mseason\u001b[39m\u001b[33m'\u001b[39m,\u001b[33m'\u001b[39m\u001b[33mbatsman\u001b[39m\u001b[33m'\u001b[39m])[\u001b[33m'\u001b[39m\u001b[33mbatsman_runs\u001b[39m\u001b[33m'\u001b[39m].sum().sort_values(ascending=\u001b[38;5;28;01mFalse\u001b[39;00m).reset_index().drop_duplicates(subset=\u001b[33m'\u001b[39m\u001b[33mseason\u001b[39m\u001b[33m'\u001b[39m,keep=\u001b[33m'\u001b[39m\u001b[33mfirst\u001b[39m\u001b[33m'\u001b[39m).sort_values(\u001b[33m'\u001b[39m\u001b[33mseason\u001b[39m\u001b[33m'\u001b[39m)[[\u001b[33m'\u001b[39m\u001b[33mseason\u001b[39m\u001b[33m'\u001b[39m,\u001b[33m'\u001b[39m\u001b[33mbatsman\u001b[39m\u001b[33m'\u001b[39m]]\n",
      "\u001b[31mNameError\u001b[39m: name 'new' is not defined"
     ]
    }
   ],
   "source": [
    "new.groupby(['season','batsman'])['batsman_runs'].sum().sort_values(ascending=False).reset_index().drop_duplicates(subset='season',keep='first').sort_values('season')[['season','batsman']]"
   ]
  },
  {
   "cell_type": "code",
   "execution_count": null,
   "id": "c0edc7ba-a1b7-42ff-80ef-dc6285f8971c",
   "metadata": {},
   "outputs": [],
   "source": []
  }
 ],
 "metadata": {
  "kernelspec": {
   "display_name": "Python 3",
   "language": "python",
   "name": "python3"
  },
  "language_info": {
   "codemirror_mode": {
    "name": "ipython",
    "version": 3
   },
   "file_extension": ".py",
   "mimetype": "text/x-python",
   "name": "python",
   "nbconvert_exporter": "python",
   "pygments_lexer": "ipython3",
   "version": "3.11.9"
  }
 },
 "nbformat": 4,
 "nbformat_minor": 5
}
